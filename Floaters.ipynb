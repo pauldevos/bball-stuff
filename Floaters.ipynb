{
 "cells": [
  {
   "cell_type": "code",
   "execution_count": 1,
   "metadata": {},
   "outputs": [],
   "source": [
    "from IPython.display import HTML\n",
    "import numpy as np\n",
    "import pandas as pd\n",
    "import matplotlib.pyplot as plt\n",
    "from matplotlib import animation\n",
    "from matplotlib.patches import Circle, Rectangle, Arc\n",
    "from plotting_helper import draw_court\n",
    "\n",
    "import seaborn as sns\n",
    "import scipy.interpolate\n",
    "import pystan\n",
    "\n",
    "import numpy as np\n",
    "from sklearn.decomposition import NMF\n",
    "pd.options.display.float_format = '{:,.4f}'.format\n",
    "pd.options.display.max_rows = 1000\n",
    "pd.options.display.max_columns = 10\n",
    "\n",
    "%matplotlib inline"
   ]
  },
  {
   "cell_type": "code",
   "execution_count": 2,
   "metadata": {},
   "outputs": [],
   "source": [
    "shot_x_range = [-25., 25.]\n",
    "shot_y_range = [-4.75, -4.75 + 47]\n",
    "player_index = pd.read_csv(\"players_index.csv\")\n",
    "rosters = pd.read_csv(\"roster.csv\")"
   ]
  },
  {
   "cell_type": "code",
   "execution_count": 3,
   "metadata": {},
   "outputs": [],
   "source": [
    "# Read in data for each player\n",
    "player_names = []\n",
    "player_name_map = {}\n",
    "player_dfs = []\n",
    "for i, row in player_index.iterrows():\n",
    "    try:\n",
    "        pn = row['PLAYER_NAME']\n",
    "        df = pd.read_csv(\"players_data/%s/2019-20_shots.csv\" % row['PLAYER_ID'])\n",
    "        df = df[df[\"ACTION_TYPE\"].str.contains(\"Floating\")]\n",
    "        if df.shape[0] > 10:\n",
    "            df[\"LOC_X\"] = df[\"LOC_X\"]/10\n",
    "            df[\"LOC_Y\"] = df[\"LOC_Y\"]/10\n",
    "            player_dfs.append(df)\n",
    "            c = len(player_names)\n",
    "            player_name_map[pn] = c\n",
    "            player_names.append(pn)\n",
    "    except:\n",
    "        pass"
   ]
  },
  {
   "cell_type": "markdown",
   "metadata": {},
   "source": [
    "## Estimate Shot Probabilities with Uncertainties"
   ]
  },
  {
   "cell_type": "code",
   "execution_count": null,
   "metadata": {},
   "outputs": [
    {
     "name": "stderr",
     "output_type": "stream",
     "text": [
      "INFO:pystan:COMPILING THE C++ CODE FOR MODEL anon_model_dc8cd41a661c2273bf5a57993c28ae32 NOW.\n"
     ]
    }
   ],
   "source": [
    "binomial_model_code = \"\"\"\n",
    "data {\n",
    "    int<lower = 1> N;\n",
    "    \n",
    "    int shots_made[N];\n",
    "    int total_shots[N];\n",
    "}\n",
    "\n",
    "parameters {\n",
    "    real<lower = 0, upper = 1> theta[N];\n",
    "}\n",
    "\n",
    "model {\n",
    "    for(i in 1:N) {\n",
    "        shots_made[i] ~ binomial(total_shots[i], theta[i]);\n",
    "    }\n",
    "}\n",
    "\n",
    "generated quantities {\n",
    "    real ev[N];\n",
    "    for(i in 1:N) {\n",
    "        ev[i] = theta[i] * 2.0;\n",
    "    }\n",
    "}\n",
    "\"\"\"\n",
    "binomial_model = pystan.StanModel(model_code = binomial_model_code)"
   ]
  },
  {
   "cell_type": "code",
   "execution_count": null,
   "metadata": {},
   "outputs": [],
   "source": [
    "shots_made = []\n",
    "shots_total = []\n",
    "ml_ev = []\n",
    "for pn, pdf in zip(player_names, player_dfs):\n",
    "    made = pdf[\"SHOT_MADE_FLAG\"]\n",
    "    shots_made.append(sum(made))\n",
    "    shots_total.append(made.shape[0])\n",
    "    ml_ev.append((pn, (sum(made)/made.shape[0]) * 2))"
   ]
  },
  {
   "cell_type": "code",
   "execution_count": null,
   "metadata": {},
   "outputs": [],
   "source": [
    "data = {\n",
    "    'N' : len(shots_made),\n",
    "    'shots_made' : shots_made,\n",
    "    'total_shots' : shots_total\n",
    "}\n",
    "fit = binomial_model.sampling(data = data, init = '0')"
   ]
  },
  {
   "cell_type": "code",
   "execution_count": null,
   "metadata": {},
   "outputs": [],
   "source": [
    "ev = fit.extract()['ev']\n",
    "ml_ev.sort(key = lambda x: -x[1])\n",
    "df = []\n",
    "for e,v in ml_ev:\n",
    "    vals = ev[:,player_name_map[e]]\n",
    "    pct_10 = np.percentile(vals, 10)\n",
    "    pct_50 = np.percentile(vals, 50)\n",
    "    pct_90 = np.percentile(vals, 90)\n",
    "    std = np.std(vals)\n",
    "    ev_fixed.append((e, pct_50))\n",
    "    df.append([e, pct_50, pct_10, pct_90, std])\n",
    "df = pd.DataFrame(df, columns=[\"Name\", \"Median EV\", \"10th Percentile EV\", \"90th Percentile EV\", \"EV Std\"])\n",
    "df = df.set_index(\"Name\")"
   ]
  },
  {
   "cell_type": "code",
   "execution_count": null,
   "metadata": {},
   "outputs": [],
   "source": [
    "df"
   ]
  },
  {
   "cell_type": "code",
   "execution_count": null,
   "metadata": {},
   "outputs": [],
   "source": []
  }
 ],
 "metadata": {
  "kernelspec": {
   "display_name": "analysis",
   "language": "python",
   "name": "analysis"
  },
  "language_info": {
   "codemirror_mode": {
    "name": "ipython",
    "version": 3
   },
   "file_extension": ".py",
   "mimetype": "text/x-python",
   "name": "python",
   "nbconvert_exporter": "python",
   "pygments_lexer": "ipython3",
   "version": "3.6.9"
  }
 },
 "nbformat": 4,
 "nbformat_minor": 4
}
