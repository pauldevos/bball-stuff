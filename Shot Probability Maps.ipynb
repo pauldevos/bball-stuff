{
 "cells": [
  {
   "cell_type": "code",
   "execution_count": 24,
   "metadata": {},
   "outputs": [],
   "source": [
    "from IPython.display import HTML\n",
    "import numpy as np\n",
    "import pandas as pd\n",
    "import matplotlib.pyplot as plt\n",
    "from matplotlib import animation\n",
    "from matplotlib.patches import Circle, Rectangle, Arc\n",
    "\n",
    "import seaborn as sns\n",
    "import scipy.interpolate\n",
    "\n",
    "import numpy as np\n",
    "from sklearn.decomposition import NMF\n",
    "pd.options.display.float_format = '{:,.2f}'.format\n",
    "\n",
    "%matplotlib inline"
   ]
  },
  {
   "cell_type": "markdown",
   "metadata": {},
   "source": [
    "# Shot Profiles\n",
    "\n",
    "Each NBA player has a different offensive playstyle that can be reflected in some degree by the frequency of shots that they take.  How do we understand this difference and how can we use it to reflect how similar any two players may be?\n",
    "\n",
    "One approach is to assume that there are really only a few different shot profiles in the NBA.  For example, if someone is exclusively a three point shooter, than their shot frequency inside the three point line will be nearly zero.  However, in reality, each player is a unknown mix of the different profiles in different proportions.\n",
    "\n",
    "One way that this can be done is using Non-negative Matrix Factorization (NMF), which decomposes a matrix into $A$ into a low-rank set of components (which we will call shot profiles) and a set of loadings/weights for each player.  Mathematically, let $N$ be the number of players in our dataset and let $M$ be the number of possible court positions. Let $A \\in \\mathbb{R}^{N x M}$ be the shot matrix where $A_{i,j}$ is the number of total shots player $i$ took in court position $j$.  Then NMF tries to solve:\n",
    "\n",
    "$$\n",
    "\\begin{align}\n",
    "    A \\approx WH\n",
    "\\end{align}\n",
    "$$\n",
    "where $W \\in \\mathbb{R}^{N x R}$ and $H \\in \\mathbb{R}^{R x M}$, with $R << M$.  Each row in $H$ represents a specific shot profile and each row in $W$ represents how much that player linearly corresponds to each shot profile.\n",
    "\n",
    "We apply this methodology to the 2019-20 NBA roster, keeping in mind that this is an ongoing season and has the fewest total shots."
   ]
  },
  {
   "cell_type": "markdown",
   "metadata": {},
   "source": [
    "## Helper functions\n",
    "\n",
    "We first process the data into the form of matrix $A$.  Below are some helper functions to help visualize the court and the discretization we will use.\n",
    "\n",
    "In this dataset, each shot is given an x-y coordinate corresponding to the half-court location that it was taken.  The coordinate represents the number of feet in reference to the hoop, which is fixed at $(0,0)$.  The left and right boundaries are thus located at $x = -25$ and $x = 25$ respectively while the baseline is located at $y = -4.75$.\n",
    "\n",
    "As these coordinates are continuous, we instead discretize the court into bins of $1 \\times 1$, counting all shots taken in that particular area as coming from the same position.  This results to a $50 \\times 47$ bins.  This binning strategy generally makes sense as a player generally occupies an area this large anyways."
   ]
  },
  {
   "cell_type": "code",
   "execution_count": 4,
   "metadata": {},
   "outputs": [],
   "source": [
    "shot_x_range = [-25., 25.]\n",
    "shot_y_range = [-4.75, -4.75 + 47]\n",
    "player_index = pd.read_csv(\"players_index.csv\")\n",
    "rosters = pd.read_csv(\"roster.csv\")"
   ]
  },
  {
   "cell_type": "code",
   "execution_count": 3,
   "metadata": {},
   "outputs": [],
   "source": [
    "# Taken from http://savvastjortjoglou.com/nba-shot-sharts.html\n",
    "def draw_court(ax=None, color='black', lw=2, outer_lines=False):\n",
    "    # If an axes object isn't provided to plot onto, just get current one\n",
    "    if ax is None:\n",
    "        ax = plt.gca()\n",
    "\n",
    "    # Create the various parts of an NBA basketball court\n",
    "\n",
    "    # Create the basketball hoop\n",
    "    # Diameter of a hoop is 18\" so it has a radius of 9\", which is a value\n",
    "    # 7.5 in our coordinate system\n",
    "    hoop = Circle((0, 0), radius=.75, linewidth=lw, color=color, fill=False)\n",
    "\n",
    "    # Create backboard\n",
    "    backboard = Rectangle((-3.0, -.75), 6.0, -.1, linewidth=lw, color=color)\n",
    "\n",
    "    # The paint\n",
    "    # Create the outer box 0f the paint, width=16ft, height=19ft\n",
    "    outer_box = Rectangle((-8.0, -4.75), 16.0, 19.0, linewidth=lw, color=color,\n",
    "                          fill=False)\n",
    "    # Create the inner box of the paint, widt=12ft, height=19ft\n",
    "    inner_box = Rectangle((-6.0, -4.75), 12.0, 19.0, linewidth=lw, color=color,\n",
    "                          fill=False)\n",
    "\n",
    "    # Create free throw top arc\n",
    "    top_free_throw = Arc((0, 14.25), 12.0, 12.0, theta1=0, theta2=180,\n",
    "                         linewidth=lw, color=color, fill=False)\n",
    "    # Create free throw bottom arc\n",
    "    bottom_free_throw = Arc((0, 14.25), 12.0, 12.0, theta1=180, theta2=0,\n",
    "                            linewidth=lw, color=color, linestyle='dashed')\n",
    "    # Restricted Zone, it is an arc with 4ft radius from center of the hoop\n",
    "    restricted = Arc((0, 0), 8.0, 8.0, theta1=0, theta2=180, linewidth=lw,\n",
    "                     color=color)\n",
    "\n",
    "    # Three point line\n",
    "    # Create the side 3pt lines, they are 14ft long before they begin to arc\n",
    "    corner_three_a = Rectangle((-22.0, -4.75), 0, 14.0, linewidth=lw,\n",
    "                               color=color)\n",
    "    corner_three_b = Rectangle((22.0, -4.75), 0, 14.0, linewidth=lw, color=color)\n",
    "    # 3pt arc - center of arc will be the hoop, arc is 23'9\" away from hoop\n",
    "    # I just played around with the theta values until they lined up with the \n",
    "    # threes\n",
    "    three_arc = Arc((0, 0), 47.5, 47.5, theta1=22, theta2=158, linewidth=lw,\n",
    "                    color=color)\n",
    "\n",
    "    # Center Court\n",
    "    center_outer_arc = Arc((0, 42.25), 12.0, 12.0, theta1=180, theta2=0,\n",
    "                           linewidth=lw, color=color)\n",
    "    center_inner_arc = Arc((0, 42.25), 4.0, 4.0, theta1=180, theta2=0,\n",
    "                           linewidth=lw, color=color)\n",
    "\n",
    "    # List of the court elements to be plotted onto the axes\n",
    "    court_elements = [hoop, backboard, outer_box, inner_box, top_free_throw,\n",
    "                      bottom_free_throw, restricted, corner_three_a,\n",
    "                      corner_three_b, three_arc, center_outer_arc,\n",
    "                      center_inner_arc]\n",
    "\n",
    "    if outer_lines:\n",
    "        # Draw the half court line, baseline and side out bound lines\n",
    "        outer_lines = Rectangle((-25.0, -4.75), 50.0, 47.0, linewidth=lw,\n",
    "                                color=color, fill=False)\n",
    "        court_elements.append(outer_lines)\n",
    "\n",
    "    # Add the court elements onto the axes\n",
    "    for element in court_elements:\n",
    "        ax.add_patch(element)\n",
    "\n",
    "    return ax\n",
    "\n",
    "def draw_shot_map(shot_dfs, ax = None, kde = False):\n",
    "    \"\"\"\n",
    "    Plots the dataframes of shots on the half-court with the court lines.\n",
    "    \n",
    "    Parameters\n",
    "    ----------\n",
    "    shot_dfs : List[pd.DataFrame]\n",
    "        DataFrame of shots to plot\n",
    "    ax : matplotlib.Axes\n",
    "        Axes to plot the shots on. If None, gets current axes.\n",
    "   \n",
    "    Returns\n",
    "    ----------\n",
    "    ax : matplotlib.Axes\n",
    "        Axes with shots and court lines plotted\n",
    "    \"\"\"\n",
    "    \n",
    "    if ax is None:\n",
    "        ax = plt.gca()\n",
    "    ax = draw_court(ax = ax, outer_lines = True)\n",
    "        \n",
    "    for shot_df in shot_dfs:\n",
    "\n",
    "        shots_made = shot_df[shot_df[\"SHOT_MADE_FLAG\"] == 1][[\"LOC_X\", \"LOC_Y\"]].values\n",
    "        shots_missed = shot_df[shot_df[\"SHOT_MADE_FLAG\"] == 0][[\"LOC_X\", \"LOC_Y\"]].values\n",
    "        if kde:\n",
    "            shots_total = np.vstack([shots_made,shots_missed])\n",
    "            sns.kdeplot(shots_total[:,0], shots_total[:,1], ax = ax, cmap = 'Reds', shade_lowest = True, shade = True)\n",
    "        else:\n",
    "            ax.scatter(shots_made[:,0], shots_made[:,1], marker = 'o', color = 'r', alpha = 0.25)\n",
    "            ax.scatter(shots_missed[:,0], shots_missed[:,1], marker = 'x', color = 'b', alpha = 0.25)\n",
    "    ax.set_xlim(-30.0, 30.0)\n",
    "    ax.set_ylim(-10.0, 50.0)\n",
    "    \n",
    "    return ax"
   ]
  },
  {
   "cell_type": "code",
   "execution_count": 5,
   "metadata": {},
   "outputs": [],
   "source": [
    "def inv_logit(x):\n",
    "    return 1/(1 + np.exp(-x))\n",
    "\n",
    "def map_range(ra, rb, v):\n",
    "    return rb[0] + ((v - ra[0]) * (rb[1] - rb[0]))/(ra[1] - ra[0])\n",
    "\n",
    "def discretize_space(range_x, range_y, nx, ny):\n",
    "    return np.meshgrid(np.linspace(range_x[0], range_x[1], nx), np.linspace(range_y[0], range_y[1], ny))\n",
    "\n",
    "def create_bins(shots, range_x, range_y, nx, ny, normed = False):\n",
    "    coords = discretize_space(range_x, range_y, nx, ny)\n",
    "    bins = np.zeros((nx,ny))\n",
    "    made_shots = np.zeros((nx, ny))\n",
    "    ilx = (range_x[1] - range_x[0])/nx\n",
    "    ily = (range_y[1] - range_y[0])/ny\n",
    "    for i in range(shots.shape[0]):\n",
    "        idx_x = int((shots[i,0] - range_x[0])//ilx)\n",
    "        idx_y = int((shots[i,1] - range_y[0])//ily)\n",
    "\n",
    "        bins[min(idx_x,nx - 1),min(idx_y,ny - 1)] += 1\n",
    "        if shots[i,2] == 1:\n",
    "            made_shots[min(idx_x,nx - 1),min(idx_y,ny - 1)] += 1\n",
    "    if normed:\n",
    "        bins = bins/shots.shape[0]\n",
    "    return coords, bins, made_shots\n",
    "\n",
    "def make_adjacency_matrix(nx, ny):\n",
    "    M = np.zeros((nx*ny, nx * ny))\n",
    "    for r in range(nx):\n",
    "        for c in range(ny):\n",
    "            i = r * ny + c\n",
    "            if c > 0:\n",
    "                M[i-1, i] = M[i, i - 1] = 1\n",
    "            if r > 0:\n",
    "                M[i - ny, i] = M[i, i - ny] = 1\n",
    "    return M\n",
    "\n",
    "def visualize_gridding(nx, ny):\n",
    "    fig, ax = plt.subplots()\n",
    "    ax.set_xlim(shot_x_range[0],shot_x_range[1])\n",
    "    ax.set_ylim(shot_y_range[0],shot_y_range[1])\n",
    "    ax.set_title(team)\n",
    "    \n",
    "    ilx = (shot_x_range[1] - shot_x_range[0])/nx\n",
    "    ily = (shot_y_range[1] - shot_y_range[0])/ny\n",
    "    for j in range(nx):\n",
    "        ax.axvline(ilx * (j + 1) + shot_x_range[0])\n",
    "    for j in range(ny):\n",
    "        ax.axhline(ily * (j + 1) + shot_y_range[0])\n",
    "\n",
    "    ax.set_aspect(47/50)\n",
    "    fig.set_size_inches(10,10)"
   ]
  },
  {
   "cell_type": "markdown",
   "metadata": {},
   "source": [
    "## Processing the Data\n",
    "\n",
    "Using the helper functions above, we read in the data.  To account for players that have almost 0 activity, we set the minimum total number of shots at 25.  We also normalize the number of shots for each player so that instead of raw shot count, it is the proportion of total shots taken at each position."
   ]
  },
  {
   "cell_type": "code",
   "execution_count": 9,
   "metadata": {},
   "outputs": [],
   "source": [
    "# Read in data for each player\n",
    "player_names = []\n",
    "player_name_map = {}\n",
    "player_dfs = []\n",
    "for i, row in player_index.iterrows():\n",
    "    try:\n",
    "        pn = row['PLAYER_NAME']\n",
    "        df = pd.read_csv(\"players_data/%s/2019-20_shots.csv\" % row['PLAYER_ID'])\n",
    "        if df.shape[0] > 25:\n",
    "            df[\"LOC_X\"] = df[\"LOC_X\"]/10\n",
    "            df[\"LOC_Y\"] = df[\"LOC_Y\"]/10\n",
    "            player_dfs.append(df)\n",
    "            c = len(player_names)\n",
    "            player_name_map[pn] = c\n",
    "            player_names.append(pn)\n",
    "    except:\n",
    "        pass"
   ]
  },
  {
   "cell_type": "code",
   "execution_count": 10,
   "metadata": {},
   "outputs": [],
   "source": [
    "# Create discretized bins\n",
    "nx, ny = 50, 47\n",
    "bins = []\n",
    "for i in range(len(player_dfs)):\n",
    "    coords, total_shots, shots_made = create_bins(player_dfs[i][[\"LOC_X\",\"LOC_Y\",\"SHOT_MADE_FLAG\"]].values, shot_x_range, shot_y_range, nx, ny, normed = True)\n",
    "    am = make_adjacency_matrix(nx, ny)\n",
    "    bins.append((coords, total_shots, shots_made, am))\n",
    "total_shot_matrix = np.asarray([b[1].flatten() for b in bins])"
   ]
  },
  {
   "cell_type": "markdown",
   "metadata": {},
   "source": [
    "As an example of the data, lets visualize a few key players"
   ]
  },
  {
   "cell_type": "code",
   "execution_count": 17,
   "metadata": {},
   "outputs": [
    {
     "data": {
      "image/png": "[encoded data removed]",
      "text/plain": [
       "<Figure size 720x720 with 2 Axes>"
      ]
     },
     "metadata": {
      "needs_background": "light"
     },
     "output_type": "display_data"
    }
   ],
   "source": [
    "fig, ax = plt.subplots(1,2)\n",
    "ax[0].imshow(total_shot_matrix[player_name_map[\"LeBron James\"]].reshape(50,47).T, origin = 'lower')\n",
    "ax[1].imshow(total_shot_matrix[player_name_map[\"James Harden\"]].reshape(50,47).T, origin = 'lower')\n",
    "fig.set_size_inches(10,10)"
   ]
  },
  {
   "cell_type": "markdown",
   "metadata": {},
   "source": [
    "## Characterizing Offensive Shot Profiles\n",
    "\n",
    "With all of the data read into the total shot matrix, we now can run NMF.  We run 4 components as these seem to give the best interpretability of components in terms of what we believe."
   ]
  },
  {
   "cell_type": "code",
   "execution_count": 18,
   "metadata": {},
   "outputs": [],
   "source": [
    "n_components = 4\n",
    "model = NMF(n_components=n_components, init = 'random', beta_loss = 'kullback-leibler', solver = 'mu', max_iter = 10000)\n",
    "W = model.fit_transform(total_shot_matrix)\n",
    "H = model.components_"
   ]
  },
  {
   "cell_type": "code",
   "execution_count": 20,
   "metadata": {},
   "outputs": [
    {
     "data": {
      "image/png": "[encoded data removed]",
      "text/plain": [
       "<Figure size 2160x864 with 4 Axes>"
      ]
     },
     "metadata": {
      "needs_background": "light"
     },
     "output_type": "display_data"
    }
   ],
   "source": [
    "fig, ax = plt.subplots(1,n_components)\n",
    "for i in range(n_components):\n",
    "    ax[i].imshow(H[i,:].reshape(50,47).T, origin = 'lower')\n",
    "    ax[i].set_aspect(47/50)\n",
    "    ax[i].set_title(\"Component %d\" % i)\n",
    "fig.set_size_inches(30, 12)"
   ]
  },
  {
   "cell_type": "markdown",
   "metadata": {},
   "source": [
    "These components are much more interpretable from what we expect in terms of usage of the court.  Three point shots are separated from inside shots with the addition of separating corner threes from top of the key.  There is a bit of redundancy but that is to be expected.\n",
    "\n",
    "By looking at the loading matrix $W$, we can get a sense of how much each player corresponds to that type of shot pattern."
   ]
  },
  {
   "cell_type": "code",
   "execution_count": 25,
   "metadata": {},
   "outputs": [
    {
     "data": {
      "text/html": [
       "<div>\n",
       "<style scoped>\n",
       "    .dataframe tbody tr th:only-of-type {\n",
       "        vertical-align: middle;\n",
       "    }\n",
       "\n",
       "    .dataframe tbody tr th {\n",
       "        vertical-align: top;\n",
       "    }\n",
       "\n",
       "    .dataframe thead th {\n",
       "        text-align: right;\n",
       "    }\n",
       "</style>\n",
       "<table border=\"1\" class=\"dataframe\">\n",
       "  <thead>\n",
       "    <tr style=\"text-align: right;\">\n",
       "      <th></th>\n",
       "      <th>H1</th>\n",
       "      <th>H2</th>\n",
       "      <th>H3</th>\n",
       "      <th>H4</th>\n",
       "    </tr>\n",
       "  </thead>\n",
       "  <tbody>\n",
       "    <tr>\n",
       "      <th>LeBron James</th>\n",
       "      <td>1.80</td>\n",
       "      <td>1.38</td>\n",
       "      <td>1.75</td>\n",
       "      <td>0.13</td>\n",
       "    </tr>\n",
       "    <tr>\n",
       "      <th>James Harden</th>\n",
       "      <td>0.25</td>\n",
       "      <td>3.16</td>\n",
       "      <td>1.54</td>\n",
       "      <td>0.11</td>\n",
       "    </tr>\n",
       "    <tr>\n",
       "      <th>Russell Westbrook</th>\n",
       "      <td>2.39</td>\n",
       "      <td>0.27</td>\n",
       "      <td>1.76</td>\n",
       "      <td>0.68</td>\n",
       "    </tr>\n",
       "    <tr>\n",
       "      <th>JJ Redick</th>\n",
       "      <td>1.53</td>\n",
       "      <td>2.62</td>\n",
       "      <td>0.00</td>\n",
       "      <td>1.35</td>\n",
       "    </tr>\n",
       "    <tr>\n",
       "      <th>Danny Green</th>\n",
       "      <td>0.58</td>\n",
       "      <td>1.52</td>\n",
       "      <td>0.34</td>\n",
       "      <td>3.10</td>\n",
       "    </tr>\n",
       "  </tbody>\n",
       "</table>\n",
       "</div>"
      ],
      "text/plain": [
       "                    H1   H2   H3   H4\n",
       "LeBron James      1.80 1.38 1.75 0.13\n",
       "James Harden      0.25 3.16 1.54 0.11\n",
       "Russell Westbrook 2.39 0.27 1.76 0.68\n",
       "JJ Redick         1.53 2.62 0.00 1.35\n",
       "Danny Green       0.58 1.52 0.34 3.10"
      ]
     },
     "execution_count": 25,
     "metadata": {},
     "output_type": "execute_result"
    }
   ],
   "source": [
    "selected_players = [\"LeBron James\", \"James Harden\", \"Russell Westbrook\", \"JJ Redick\", \"Danny Green\"]\n",
    "pd.DataFrame(W[[player_name_map[s] for s in selected_players],:] * 100, \n",
    "             columns=[\"H1\", \"H2\", \"H3\", \"H4\"],\n",
    "             index = selected_players)"
   ]
  },
  {
   "cell_type": "markdown",
   "metadata": {},
   "source": [
    "## Modeling Spatial Shot Percentage\n",
    "\n",
    "A simple task given a shot map is to ask what is the probability that someone makes a shot from any position on the court.  We will do this in several ways.\n",
    "\n",
    "For ease of modeling, we will discretize the space similar to how we did before.  This makes the assumption that within a 1x1 grid, a player has the same probability of making a shot.  Given that a player itself may occupy such a large grid, it's not so bad of an assumption.  Since we did this earlier, we will continue using it here"
   ]
  },
  {
   "cell_type": "code",
   "execution_count": null,
   "metadata": {},
   "outputs": [],
   "source": [
    "nx = 47\n",
    "ny = 50\n",
    "bins_raw = []\n",
    "for i in range(len(player_dfs)):\n",
    "    coords, total_shots, shots_made = create_bins(player_dfs[i][[\"LOC_X\",\"LOC_Y\",\"SHOT_MADE_FLAG\"]].values, shot_x_range, shot_y_range, nx, ny, normed = False)\n",
    "    am = make_adjacency_matrix(nx, ny)\n",
    "    bins_raw.append((coords, total_shots, shots_made, am))"
   ]
  },
  {
   "cell_type": "code",
   "execution_count": null,
   "metadata": {},
   "outputs": [],
   "source": [
    "player_bin = bins_raw[player_name_map[\"LeBron James\"]]\n",
    "dists = []\n",
    "for i in range(50):\n",
    "    for j in range(47):\n",
    "        dists.append(np.linalg.norm(np.array([player_bin[0][0][i,j],player_bin[0][1][i,j]])))\n",
    "X = np.array(dists).reshape(-1,1)\n",
    "X_with_bias = np.hstack([np.ones((X.shape[0],1)), X])\n",
    "shots_total = player_bin[1]\n",
    "shots_made = player_bin[2]\n",
    "AM = player_bin[3]\n",
    "\n",
    "data = {\n",
    "    'N' : shots_total.flatten().shape[0],\n",
    "    'p' : 1,\n",
    "    'X' : np.array(dists).reshape(-1,1),\n",
    "    'shots_total' : shots_total.flatten().astype(int),\n",
    "    'shots_made' : shots_made.flatten().astype(int),\n",
    "    'W' : AM,\n",
    "    'W_n' : int(np.sum(AM)/2)\n",
    "}"
   ]
  },
  {
   "cell_type": "code",
   "execution_count": null,
   "metadata": {},
   "outputs": [],
   "source": [
    "nonzero_idxs = np.argwhere(shots_total.flatten() != 0)[:,0]"
   ]
  },
  {
   "cell_type": "code",
   "execution_count": null,
   "metadata": {},
   "outputs": [],
   "source": [
    "import pystan"
   ]
  },
  {
   "cell_type": "markdown",
   "metadata": {},
   "source": [
    "### Independent distance dependent \n",
    "\n",
    "The most basic model for shot percentage simply assumes an independent probability at each grid position."
   ]
  },
  {
   "cell_type": "code",
   "execution_count": null,
   "metadata": {},
   "outputs": [],
   "source": [
    "independent_bernoulli_model_code = \"\"\"\n",
    "data {\n",
    "    int<lower = 1> N;\n",
    "    int<lower = 1> p;\n",
    "    matrix[N, p] X;\n",
    "    int<lower = 0> shots_total[N];\n",
    "    int<lower = 0> shots_made[N];\n",
    "}\n",
    "\n",
    "parameters {\n",
    "    vector[p] beta;\n",
    "}\n",
    "\n",
    "model {\n",
    "    beta ~ normal(0, 1);\n",
    "    \n",
    "    for(i in 1:N) {\n",
    "        shots_made[i] ~ binomial(shots_total[i], inv_logit(X[i,] * beta));\n",
    "    }\n",
    "}\n",
    "\"\"\"\n",
    "independent_bernoulli_model = pystan.StanModel(model_code = independent_bernoulli_model_code)"
   ]
  },
  {
   "cell_type": "code",
   "execution_count": null,
   "metadata": {},
   "outputs": [],
   "source": [
    "X_with_bias_nonzero = X_with_bias[nonzero_idxs,:]\n",
    "shots_total_nonzero = shots_total.flatten().astype(int)[nonzero_idxs]\n",
    "shots_made_nonzero = shots_made.flatten().astype(int)[nonzero_idxs]\n",
    "data = {\n",
    "    'N' : X_with_bias_nonzero.shape[0],\n",
    "    'p' : 2,\n",
    "    'X' : X_with_bias_nonzero,\n",
    "    'shots_total' : shots_total_nonzero.flatten().astype(int),\n",
    "    'shots_made' : shots_made_nonzero.flatten().astype(int)\n",
    "}"
   ]
  },
  {
   "cell_type": "code",
   "execution_count": null,
   "metadata": {},
   "outputs": [],
   "source": [
    "fit = independent_bernoulli_model.sampling(data = data, iter = 1000)"
   ]
  },
  {
   "cell_type": "code",
   "execution_count": null,
   "metadata": {},
   "outputs": [],
   "source": [
    "probs = inv_logit(beta @ X_with_bias.T)"
   ]
  },
  {
   "cell_type": "code",
   "execution_count": null,
   "metadata": {},
   "outputs": [],
   "source": [
    "fig, ax = plt.subplots()\n",
    "p = ax.imshow(np.mean(probs, axis = 0).reshape(50,47).T, origin = 'lower')\n",
    "ax.set_aspect(47/50)\n",
    "fig.colorbar(p, ax = ax)\n",
    "fig.set_size_inches(10,10)"
   ]
  },
  {
   "cell_type": "markdown",
   "metadata": {},
   "source": [
    "Looking at the results, it's a bit noisy - near point should also have similar probability."
   ]
  },
  {
   "cell_type": "markdown",
   "metadata": {},
   "source": [
    "## Spatial GMRF with Fixed Effect"
   ]
  },
  {
   "cell_type": "code",
   "execution_count": null,
   "metadata": {},
   "outputs": [],
   "source": [
    "spatial_sparse_car_model_fere_code = \"\"\"\n",
    "functions {\n",
    "  /**\n",
    "  * Return the log probability of a proper conditional autoregressive (CAR) prior \n",
    "  * with a sparse representation for the adjacency matrix\n",
    "  *\n",
    "  * @param phi Vector containing the parameters with a CAR prior\n",
    "  * @param tau Precision parameter for the CAR prior (real)\n",
    "  * @param alpha Dependence (usually spatial) parameter for the CAR prior (real)\n",
    "  * @param W_sparse Sparse representation of adjacency matrix (int array)\n",
    "  * @param n Length of phi (int)\n",
    "  * @param W_n Number of adjacent pairs (int)\n",
    "  * @param D_sparse Number of neighbors for each location (vector)\n",
    "  * @param lambda Eigenvalues of D^{-1/2}*W*D^{-1/2} (vector)\n",
    "  *\n",
    "  * @return Log probability density of CAR prior up to additive constant\n",
    "  */\n",
    "  real sparse_car_lpdf(vector phi, real tau, real alpha, \n",
    "    int[,] W_sparse, vector D_sparse, vector lambda, int n, int W_n) {\n",
    "      row_vector[n] phit_D; // phi' * D\n",
    "      row_vector[n] phit_W; // phi' * W\n",
    "      vector[n] ldet_terms;\n",
    "    \n",
    "      phit_D = (phi .* D_sparse)';\n",
    "      phit_W = rep_row_vector(0, n);\n",
    "      for (i in 1:W_n) {\n",
    "        phit_W[W_sparse[i, 1]] = phit_W[W_sparse[i, 1]] + phi[W_sparse[i, 2]];\n",
    "        phit_W[W_sparse[i, 2]] = phit_W[W_sparse[i, 2]] + phi[W_sparse[i, 1]];\n",
    "      }\n",
    "    \n",
    "      for (i in 1:n) ldet_terms[i] = log1m(alpha * lambda[i]);\n",
    "      return 0.5 * (n * log(tau)\n",
    "                    + sum(ldet_terms)\n",
    "                    - tau * (phit_D * phi - alpha * (phit_W * phi)));\n",
    "  }\n",
    "}\n",
    "\n",
    "data {\n",
    "  \n",
    "  int<lower = 1> N; // number of positions\n",
    "  int<lower = 1> p; // number of covariates\n",
    "  int<lower = 0> shots_total[N]; // Number of total shots\n",
    "  int<lower = 0> shots_made[N]; // Number of shots made\n",
    "  matrix[N,p] X; // covariate values for each location\n",
    "  matrix<lower = 0, upper = 1>[N, N] W; // dense adjacency matrix\n",
    "  int W_n;\n",
    "  int<\n",
    "}\n",
    "\n",
    "transformed data {\n",
    "  int W_sparse[W_n, 2];   // adjacency pairs\n",
    "  vector[N] D_sparse;     // diagonal of D (number of neigbors for each site)\n",
    "  vector[N] lambda;       // eigenvalues of invsqrtD * W * invsqrtD\n",
    "  \n",
    "  { // generate sparse representation for W\n",
    "  int counter;\n",
    "  counter = 1;\n",
    "  // loop over upper triangular part of W to identify neighbor pairs\n",
    "    for (i in 1:(N - 1)) {\n",
    "      for (j in (i + 1):N) {\n",
    "        if (W[i, j] == 1) {\n",
    "          W_sparse[counter, 1] = i;\n",
    "          W_sparse[counter, 2] = j;\n",
    "          counter = counter + 1;\n",
    "        }\n",
    "      }\n",
    "    }\n",
    "  }\n",
    "  for (i in 1:N) D_sparse[i] = sum(W[i]);\n",
    "  {\n",
    "    vector[N] invsqrtD;  \n",
    "    for (i in 1:N) {\n",
    "      invsqrtD[i] = 1 / sqrt(D_sparse[i]);\n",
    "    }\n",
    "    lambda = eigenvalues_sym(quad_form(W, diag_matrix(invsqrtD)));\n",
    "  }\n",
    "}\n",
    "\n",
    "parameters {\n",
    "  vector[N] phi; // location specific random effect\n",
    "  vector[p] beta;\n",
    "  real<lower = 0> tau; // spatial precision parameter\n",
    "  real<lower = 0, upper = 1> alpha; // intensity of spatial dependence\n",
    "}\n",
    "\n",
    "model {\n",
    "  beta ~ normal(0,1);\n",
    "  phi ~ sparse_car(tau, alpha, W_sparse, D_sparse, lambda, N, W_n);\n",
    "  tau ~ gamma(2, 2);\n",
    "  for(i in 1:N) {\n",
    "      shots_made ~ binomial(shots_total, inv_logit(X[i,] * beta + phi[i]));\n",
    "  }\n",
    "}\n",
    "\n",
    "\"\"\"\n",
    "spatial_car_model_fere = pystan.StanModel(model_code = spatial_sparse_car_model_fere_code) "
   ]
  },
  {
   "cell_type": "code",
   "execution_count": null,
   "metadata": {},
   "outputs": [],
   "source": [
    "data = {\n",
    "    'N' : X_with_bias_nonzero.shape[0],\n",
    "    'p' : 2,\n",
    "    'X' : X_with_bias_nonzero,\n",
    "    'shots_total' : shots_total_nonzero.flatten().astype(int),\n",
    "    'shots_made' : shots_made_nonzero.flatten().astype(int)\n",
    "}\n",
    "\n",
    "data = {\n",
    "    'N' : X_with_bias_nonzero.shape[0],\n",
    "    'p' : 2,\n",
    "    'X' : X_with_bias_nonzero,\n",
    "    'shots_total' : shots_total_nonzero.flatten().astype(int),\n",
    "    'shots_made' : shots_made_nonzero.flatten().astype(int),\n",
    "    'nonzero_idxs' : nonzero_idxs,\n",
    "    'W' : AM,\n",
    "    'W_n' : int(np.sum(AM)/2),\n",
    "}"
   ]
  },
  {
   "cell_type": "code",
   "execution_count": null,
   "metadata": {},
   "outputs": [],
   "source": [
    "fit = spatial_car_model_fere.sampling(data = data, iter = 1000, chains = 1)"
   ]
  },
  {
   "cell_type": "code",
   "execution_count": null,
   "metadata": {},
   "outputs": [],
   "source": [
    "plt.hist(fit.extract()['beta'][:,0], bins = 'auto')"
   ]
  },
  {
   "cell_type": "code",
   "execution_count": null,
   "metadata": {},
   "outputs": [],
   "source": [
    "phi = fit.extract()['phi']\n",
    "beta = fit.extract()['beta']\n",
    "probs_only_dist = inv_logit((beta * X.T))\n",
    "probs_only_phi = inv_logit(phi)\n",
    "probs = inv_logit((beta * X.T) + phi)"
   ]
  },
  {
   "cell_type": "code",
   "execution_count": null,
   "metadata": {},
   "outputs": [],
   "source": [
    "np.max(X)"
   ]
  },
  {
   "cell_type": "code",
   "execution_count": null,
   "metadata": {},
   "outputs": [],
   "source": [
    "fig, ax = plt.subplots()\n",
    "p = ax.imshow(np.mean(probs, axis = 0).reshape(47,50).T, origin = 'lower')\n",
    "ax.set_aspect(47/50)\n",
    "fig.colorbar(p, ax = ax)\n",
    "fig.set_size_inches(10,10)"
   ]
  },
  {
   "cell_type": "code",
   "execution_count": null,
   "metadata": {},
   "outputs": [],
   "source": [
    "probs = probs.reshape(-1,nx,ny)\n",
    "probs_only_dist = probs_only_dist.reshape(-1, nx, ny)\n",
    "probs_only_phi = probs_only_phi.reshape(-1, nx, ny)"
   ]
  },
  {
   "cell_type": "code",
   "execution_count": null,
   "metadata": {},
   "outputs": [],
   "source": [
    "fig, ax = plt.subplots()\n",
    "sns.distplot(probs[:,3,0], bins = 'auto', ax = ax, label = 'FE + RE')\n",
    "sns.distplot(probs_only_dist[:,3,0], bins = 'auto', ax = ax, label = 'FE')\n",
    "sns.distplot(probs_only_phi[:,3,0], bins = 'auto', ax = ax, label = 'RE')\n",
    "ax.legend()"
   ]
  },
  {
   "cell_type": "code",
   "execution_count": null,
   "metadata": {},
   "outputs": [],
   "source": [
    "fig, ax = plt.subplots()\n",
    "\n",
    "prob_vals = ax.imshow(probs[0,:,:].T, origin = 'lower', extent = [shot_x_range[0], shot_x_range[1], shot_y_range[0], shot_y_range[1]])\n",
    "ax.set_xlim([-30.0, 30.0])\n",
    "ax.set_ylim([-10.0, 50.0])\n",
    "ax = draw_court(ax = ax, outer_lines = True)\n",
    "def init():\n",
    "    prob_vals.set_data(probs[0,:,:].T)\n",
    "    return [prob_vals]\n",
    "\n",
    "def animate(i):\n",
    "    prob_vals.set_array(probs[i,:,:].T)\n",
    "    return [prob_vals]\n",
    "\n",
    "ani = animation.FuncAnimation(fig, animate, frames = len(probs[0,:]), blit = True, init_func = init)"
   ]
  },
  {
   "cell_type": "code",
   "execution_count": null,
   "metadata": {},
   "outputs": [],
   "source": [
    "from matplotlib.patches import Circle, Rectangle, Arc\n",
    "\n",
    "def draw_court(ax=None, color='black', lw=2, outer_lines=False):\n",
    "    # If an axes object isn't provided to plot onto, just get current one\n",
    "    if ax is None:\n",
    "        ax = plt.gca()\n",
    "\n",
    "    # Create the various parts of an NBA basketball court\n",
    "\n",
    "    # Create the basketball hoop\n",
    "    # Diameter of a hoop is 18\" so it has a radius of 9\", which is a value\n",
    "    # 7.5 in our coordinate system\n",
    "    hoop = Circle((0, 0), radius=.75, linewidth=lw, color=color, fill=False)\n",
    "\n",
    "    # Create backboard\n",
    "    backboard = Rectangle((-3.0, -.75), 6.0, -.1, linewidth=lw, color=color)\n",
    "\n",
    "    # The paint\n",
    "    # Create the outer box 0f the paint, width=16ft, height=19ft\n",
    "    outer_box = Rectangle((-8.0, -4.75), 16.0, 19.0, linewidth=lw, color=color,\n",
    "                          fill=False)\n",
    "    # Create the inner box of the paint, widt=12ft, height=19ft\n",
    "    inner_box = Rectangle((-6.0, -4.75), 12.0, 19.0, linewidth=lw, color=color,\n",
    "                          fill=False)\n",
    "\n",
    "    # Create free throw top arc\n",
    "    top_free_throw = Arc((0, 14.25), 12.0, 12.0, theta1=0, theta2=180,\n",
    "                         linewidth=lw, color=color, fill=False)\n",
    "    # Create free throw bottom arc\n",
    "    bottom_free_throw = Arc((0, 14.25), 12.0, 12.0, theta1=180, theta2=0,\n",
    "                            linewidth=lw, color=color, linestyle='dashed')\n",
    "    # Restricted Zone, it is an arc with 4ft radius from center of the hoop\n",
    "    restricted = Arc((0, 0), 8.0, 8.0, theta1=0, theta2=180, linewidth=lw,\n",
    "                     color=color)\n",
    "\n",
    "    # Three point line\n",
    "    # Create the side 3pt lines, they are 14ft long before they begin to arc\n",
    "    corner_three_a = Rectangle((-22.0, -4.75), 0, 14.0, linewidth=lw,\n",
    "                               color=color)\n",
    "    corner_three_b = Rectangle((22.0, -4.75), 0, 14.0, linewidth=lw, color=color)\n",
    "    # 3pt arc - center of arc will be the hoop, arc is 23'9\" away from hoop\n",
    "    # I just played around with the theta values until they lined up with the \n",
    "    # threes\n",
    "    three_arc = Arc((0, 0), 47.5, 47.5, theta1=22, theta2=158, linewidth=lw,\n",
    "                    color=color)\n",
    "\n",
    "    # Center Court\n",
    "    center_outer_arc = Arc((0, 42.25), 12.0, 12.0, theta1=180, theta2=0,\n",
    "                           linewidth=lw, color=color)\n",
    "    center_inner_arc = Arc((0, 42.25), 4.0, 4.0, theta1=180, theta2=0,\n",
    "                           linewidth=lw, color=color)\n",
    "\n",
    "    # List of the court elements to be plotted onto the axes\n",
    "    court_elements = [hoop, backboard, outer_box, inner_box, top_free_throw,\n",
    "                      bottom_free_throw, restricted, corner_three_a,\n",
    "                      corner_three_b, three_arc, center_outer_arc,\n",
    "                      center_inner_arc]\n",
    "\n",
    "    if outer_lines:\n",
    "        # Draw the half court line, baseline and side out bound lines\n",
    "        outer_lines = Rectangle((-25.0, -4.75), 50.0, 47.0, linewidth=lw,\n",
    "                                color=color, fill=False)\n",
    "        court_elements.append(outer_lines)\n",
    "\n",
    "    # Add the court elements onto the axes\n",
    "    for element in court_elements:\n",
    "        ax.add_patch(element)\n",
    "\n",
    "    return ax"
   ]
  },
  {
   "cell_type": "code",
   "execution_count": null,
   "metadata": {},
   "outputs": [],
   "source": [
    "plt.figure(figsize=(12,11))\n",
    "ax = draw_court(outer_lines=True)\n",
    "ilx = (shot_x_range[1] - shot_x_range[0])/nx\n",
    "ily = (shot_y_range[1] - shot_y_range[0])/ny\n",
    "for j in range(nx + 1):\n",
    "    ax.axvline(ilx * j + shot_x_range[0])\n",
    "    ax.axhline(ily * j + shot_y_range[0])\n",
    "plt.xlim(-30.0,30.0)\n",
    "plt.ylim(-10.0,50.0)\n",
    "plt.show()"
   ]
  },
  {
   "cell_type": "code",
   "execution_count": null,
   "metadata": {},
   "outputs": [],
   "source": [
    "HTML(ani.to_html5_video())"
   ]
  },
  {
   "cell_type": "markdown",
   "metadata": {},
   "source": [
    "## Fitting a Spatial GP over shot data"
   ]
  },
  {
   "cell_type": "code",
   "execution_count": null,
   "metadata": {},
   "outputs": [],
   "source": [
    "spatial_gp_stan_model_code = \"\"\"\n",
    "data {\n",
    "  int<lower=1> N; // Number of data points\n",
    "  vector[2] x[N]; // Coordinates of bins\n",
    "  int shots_total[N]; // Number of total shots\n",
    "  int shots_made[N]; // Number of shots made\n",
    "}\n",
    "\n",
    "parameters {\n",
    "  real<lower=0> rho;\n",
    "  real<lower=0> alpha;\n",
    "  vector[N] eta;\n",
    "}\n",
    "\n",
    "transformed parameters {\n",
    " vector[N] f;\n",
    "  {\n",
    "    matrix[N, N] L_K;\n",
    "    matrix[N, N] K = cov_exp_quad(x, alpha, rho);\n",
    "\n",
    "    // diagonal elements\n",
    "    for (n in 1:N)\n",
    "      K[n, n] = K[n, n] + 1e-9;\n",
    "\n",
    "    L_K = cholesky_decompose(K);\n",
    "    f = L_K * eta;\n",
    "  }\n",
    "}\n",
    "\n",
    "model {\n",
    "  \n",
    "  rho ~ inv_gamma(5, 5);\n",
    "  alpha ~ std_normal();\n",
    "  eta ~ std_normal();\n",
    "\n",
    "  shots_made ~ binomial(shots_total, inv_logit(f));\n",
    "}\n",
    "\n",
    "\"\"\"\n",
    "spatial_gp_stan_model = pystan.StanModel(model_code = spatial_gp_stan_model_code)"
   ]
  },
  {
   "cell_type": "code",
   "execution_count": null,
   "metadata": {},
   "outputs": [],
   "source": [
    "data = {'N' : x.shape[0], \n",
    "        'x' : x,\n",
    "        'shots_total' : y_total.astype(int),\n",
    "        'shots_made'  : y_made.astype(int)}"
   ]
  },
  {
   "cell_type": "code",
   "execution_count": null,
   "metadata": {},
   "outputs": [],
   "source": [
    "fit = spatial_gp_stan_model.sampling(data = data, iter = 1000, chains = 4)"
   ]
  },
  {
   "cell_type": "code",
   "execution_count": null,
   "metadata": {},
   "outputs": [],
   "source": [
    "params = fit.extract(pars = ('rho', 'alpha'))"
   ]
  },
  {
   "cell_type": "code",
   "execution_count": null,
   "metadata": {},
   "outputs": [],
   "source": [
    "sns.distplot(params['rho'], bins = 'auto')\n",
    "sns.distplot(params['alpha'], bins  = 'auto')"
   ]
  },
  {
   "cell_type": "code",
   "execution_count": null,
   "metadata": {},
   "outputs": [],
   "source": [
    "probs = 1/(1 + np.exp(-fit.extract(pars = ('f'))['f']))"
   ]
  },
  {
   "cell_type": "code",
   "execution_count": null,
   "metadata": {},
   "outputs": [],
   "source": [
    "plt.imshow(probs[3,:].reshape(10,10))"
   ]
  },
  {
   "cell_type": "code",
   "execution_count": null,
   "metadata": {},
   "outputs": [],
   "source": []
  }
 ],
 "metadata": {
  "kernelspec": {
   "display_name": "analysis",
   "language": "python",
   "name": "analysis"
  },
  "language_info": {
   "codemirror_mode": {
    "name": "ipython",
    "version": 3
   },
   "file_extension": ".py",
   "mimetype": "text/x-python",
   "name": "python",
   "nbconvert_exporter": "python",
   "pygments_lexer": "ipython3",
   "version": "3.6.9"
  }
 },
 "nbformat": 4,
 "nbformat_minor": 2
}
