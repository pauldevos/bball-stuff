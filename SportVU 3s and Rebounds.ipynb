{
 "cells": [
  {
   "cell_type": "code",
   "execution_count": 1,
   "metadata": {},
   "outputs": [],
   "source": [
    "from IPython.display import HTML\n",
    "import numpy as np\n",
    "import pandas as pd\n",
    "import matplotlib.pyplot as plt\n",
    "from matplotlib import animation\n",
    "import scipy.spatial\n",
    "from sportvu.sportvu_helper import *\n",
    "from datetime import datetime\n",
    "from scipy.interpolate import interp1d\n",
    "plt.style.use('seaborn-pastel')\n",
    "\n",
    "%matplotlib inline"
   ]
  },
  {
   "cell_type": "code",
   "execution_count": 2,
   "metadata": {},
   "outputs": [],
   "source": [
    "game = load_game_data(\"0021500001\")"
   ]
  },
  {
   "cell_type": "code",
   "execution_count": 4,
   "metadata": {},
   "outputs": [],
   "source": [
    "def assign_rebound(play, player_idx):\n",
    "    \"\"\"\n",
    "    Find the rebound frame for a particular player.  Ad-hoc, assigns it as the first time\n",
    "    that the ball is closest to the given player.\n",
    "    \n",
    "    Parameters\n",
    "    ----------\n",
    "    play: pd.DataFrame\n",
    "        The selected event\n",
    "    player_idx: int\n",
    "        The index of the player to track\n",
    "    \"\"\"\n",
    "    min_dist = np.inf\n",
    "    frame = None\n",
    "    times = play['game_clock'].unique()\n",
    "    for t in times:\n",
    "        snapshot = play[play['game_clock'] == t]\n",
    "        if len(snapshot) == 11:\n",
    "            ball_pos = snapshot[snapshot['player_id'] == -1][['x_loc','y_loc']].values\n",
    "            player_pos = snapshot[snapshot['player_id'] != -1][['x_loc','y_loc']].values\n",
    "            dist_vals = scipy.spatial.distance.cdist(ball_pos.reshape(1,2), player_pos)[0]\n",
    "            if dist_vals[player_idx] < min_dist:\n",
    "                min_dist = dist_vals[player_idx]\n",
    "                frame = snapshot\n",
    "    return min_dist, frame\n",
    "        \n",
    "\n",
    "def find_event_position(game, event_id):\n",
    "    event = game.event_data[game.event_data['EVENTNUM'] == event_id] \n",
    "    player_id = event[\"PLAYER1_ID\"].values[0]\n",
    "    \n",
    "    play = game.tracking_data[game.tracking_data['event_id'] == event_id]\n",
    "    player_ids = np.array(play['player_id'].unique())\n",
    "    player_idx = np.where(player_ids == player_id)[0] - 1\n",
    "    if len(player_idx) == 0:\n",
    "        return None, None, None\n",
    "        \n",
    "    t = event['game_clock'].values[0]\n",
    "    play['game_clock_round'] = play['game_clock'].round().astype(int)\n",
    "    play = play[(play['game_clock_round'] >= t - 3) & (play['game_clock_round'] <= t + 3)]\n",
    "    \n",
    "    min_dist, frame = assign_rebound(play, player_idx)\n",
    "    return min_dist, frame, player_idx"
   ]
  },
  {
   "cell_type": "code",
   "execution_count": 5,
   "metadata": {},
   "outputs": [
    {
     "name": "stderr",
     "output_type": "stream",
     "text": [
      "/home/rmjiang/Basketball/analysis/lib/python3.6/site-packages/pandas/core/generic.py:6287: SettingWithCopyWarning: \n",
      "A value is trying to be set on a copy of a slice from a DataFrame\n",
      "\n",
      "See the caveats in the documentation: http://pandas.pydata.org/pandas-docs/stable/user_guide/indexing.html#returning-a-view-versus-a-copy\n",
      "  self._update_inplace(new_data)\n"
     ]
    }
   ],
   "source": [
    "misses = game.event_data[game.event_data['EVENTMSGTYPE'] == 2]\n",
    "misses[\"HOMEDESCRIPTION\"].fillna(value = \"\", inplace = True)\n",
    "misses[\"VISITORDESCRIPTION\"].fillna(value = \"\",inplace = True)\n",
    "missed_threes_home = misses[misses[\"HOMEDESCRIPTION\"].str.contains(\"3PT\")]\n",
    "missed_threes_away = misses[misses[\"VISITORDESCRIPTION\"].str.contains(\"3PT\")]"
   ]
  },
  {
   "cell_type": "code",
   "execution_count": 6,
   "metadata": {},
   "outputs": [],
   "source": [
    "three_shots_home = missed_threes_home['EVENTNUM'].values.astype(int)\n",
    "three_shots_away = missed_threes_away['EVENTNUM'].values.astype(int)"
   ]
  },
  {
   "cell_type": "code",
   "execution_count": 7,
   "metadata": {},
   "outputs": [
    {
     "name": "stderr",
     "output_type": "stream",
     "text": [
      "/home/rmjiang/Basketball/analysis/lib/python3.6/site-packages/ipykernel_launcher.py:39: SettingWithCopyWarning: \n",
      "A value is trying to be set on a copy of a slice from a DataFrame.\n",
      "Try using .loc[row_indexer,col_indexer] = value instead\n",
      "\n",
      "See the caveats in the documentation: http://pandas.pydata.org/pandas-docs/stable/user_guide/indexing.html#returning-a-view-versus-a-copy\n"
     ]
    }
   ],
   "source": [
    "mx = interp1d([-4.75,42.5],[0,47])\n",
    "my = interp1d([-25, 25], [0, 50])\n",
    "convert_y_to_x = lambda y: mx(y/10)\n",
    "convert_x_to_y = lambda x: my(x/10)\n",
    "\n",
    "shot_dists = []\n",
    "rebound_dists = []\n",
    "dists = []\n",
    "frames = []\n",
    "player_idxs = []\n",
    "missed_threes = []\n",
    "for i in range(three_shots_home.shape[0]):\n",
    "    # rebounding events\n",
    "    md_r, f_r, pr = find_event_position(game, three_shots_home[i] + 1)\n",
    "    if md_r is not None:\n",
    "        dists.append(md_r[0])\n",
    "        frames.append(f_r)\n",
    "        player_idxs.append(pr)\n",
    "\n",
    "        # 3pt misses\n",
    "        ball_pos = f_r[f_r['team_id'] == -1][['x_loc','y_loc']].values[0]\n",
    "        s_shot = game.shot_data[game.shot_data['GAME_EVENT_ID'] == three_shots_home[i]]\n",
    "        shot_pos = [s_shot['LOC_Y'].values[0], s_shot['LOC_X'].values[0]]\n",
    "        if s_shot['PERIOD'].values[0] == 3 or s_shot['PERIOD'].values[0] == 4:\n",
    "            shot_dists.append(scipy.spatial.distance.euclidean(shot_pos, np.array([94 - 4,25])))\n",
    "            rebound_dists.append(scipy.spatial.distance.euclidean(ball_pos, np.array([94 - 4,25])))\n",
    "        else:\n",
    "            shot_dists.append(scipy.spatial.distance.euclidean(shot_pos, np.array([4, 25])))\n",
    "            rebound_dists.append(scipy.spatial.distance.euclidean(ball_pos, np.array([4, 25])))\n",
    "        missed_threes.append(shot_pos)\n",
    "    \n",
    "for i in range(three_shots_away.shape[0]):\n",
    "    # rebounding events\n",
    "    md_r, f_r, pr = find_event_position(game, three_shots_away[i] + 1)\n",
    "    if md_r is not None:\n",
    "        dists.append(md_r[0])\n",
    "        frames.append(f_r)\n",
    "        player_idxs.append(pr)\n",
    "\n",
    "        # 3pt misses\n",
    "        ball_pos = f_r[f_r['team_id'] == -1][['x_loc','y_loc']].values[0]\n",
    "        s_shot = game.shot_data[game.shot_data['GAME_EVENT_ID'] == three_shots_away[i]]\n",
    "        shot_pos = [s_shot['LOC_Y'].values[0], s_shot['LOC_X'].values[0]]\n",
    "        if s_shot['PERIOD'].values[0] == 1 or s_shot['PERIOD'].values[0] == 2:\n",
    "            shot_pos[0] = 94 - shot_pos[0]\n",
    "            shot_dists.append(scipy.spatial.distance.euclidean(shot_pos, np.array([94 - 4,25])))\n",
    "            rebound_dists.append(scipy.spatial.distance.euclidean(ball_pos, np.array([94 - 4,25])))\n",
    "        else:\n",
    "            shot_dists.append(scipy.spatial.distance.euclidean(shot_pos, np.array([4, 25])))\n",
    "            rebound_dists.append(scipy.spatial.distance.euclidean(ball_pos, np.array([4, 25])))\n",
    "        missed_threes.append(shot_pos)\n",
    "    "
   ]
  },
  {
   "cell_type": "code",
   "execution_count": null,
   "metadata": {},
   "outputs": [],
   "source": [
    "fig, ax = plt.subplots()\n",
    "for i in range(len(missed_threes)):\n",
    "    player_idx = player_idxs[i]\n",
    "    f = frames[i][frames[i]['team_id'] == -1]\n",
    "    player_pos = frames[i][frames[i]['player_id'] != -1][['x_loc','y_loc']].values\n",
    "    ax.plot(player_pos[player_idx,0], player_pos[player_idx,1], marker = 'o', linestyle = 'None', color = 'r')\n",
    "    ax.plot(missed_threes[i][0], missed_threes[i][1], marker = 'o', linestyle = 'None', color = 'b')\n",
    "    ax.plot(f['x_loc'].values[0], f['y_loc'].values[0], marker = 'x', linestyle = 'None', color = 'r')\n",
    "ax.plot(4, 25, marker = '+', linestyle = 'None', color = 'g')\n",
    "ax.plot(94 - 4, 25, marker = '+', linestyle = 'None', color = 'g')\n",
    "ax.set_xlim([0, 94])\n",
    "ax.set_ylim([0, 50])\n",
    "fig.set_size_inches(10 * 1.88,10)"
   ]
  },
  {
   "cell_type": "code",
   "execution_count": null,
   "metadata": {},
   "outputs": [],
   "source": [
    "plt.scatter(shot_dists, rebound_dists)"
   ]
  },
  {
   "cell_type": "code",
   "execution_count": null,
   "metadata": {},
   "outputs": [],
   "source": [
    "ani = render_play(game_data, 56)"
   ]
  },
  {
   "cell_type": "code",
   "execution_count": null,
   "metadata": {},
   "outputs": [],
   "source": [
    "HTML(ani.to_html5_video())"
   ]
  },
  {
   "cell_type": "code",
   "execution_count": null,
   "metadata": {},
   "outputs": [],
   "source": []
  }
 ],
 "metadata": {
  "kernelspec": {
   "display_name": "analysis",
   "language": "python",
   "name": "analysis"
  },
  "language_info": {
   "codemirror_mode": {
    "name": "ipython",
    "version": 3
   },
   "file_extension": ".py",
   "mimetype": "text/x-python",
   "name": "python",
   "nbconvert_exporter": "python",
   "pygments_lexer": "ipython3",
   "version": "3.6.9"
  }
 },
 "nbformat": 4,
 "nbformat_minor": 4
}
